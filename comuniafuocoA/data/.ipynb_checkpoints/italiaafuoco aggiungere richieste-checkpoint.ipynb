{
 "cells": [
  {
   "cell_type": "code",
   "execution_count": 74,
   "metadata": {
    "collapsed": true
   },
   "outputs": [],
   "source": [
    "import geopandas as gpd\n",
    "import pandas as pd"
   ]
  },
  {
   "cell_type": "code",
   "execution_count": 75,
   "metadata": {
    "collapsed": true
   },
   "outputs": [],
   "source": [
    "%%bash\n",
    "<comunieventilink0.js sed 's/var json_comunieventilink0 = //g'  > comunieventilink0.geojson"
   ]
  },
  {
   "cell_type": "code",
   "execution_count": 76,
   "metadata": {
    "collapsed": true
   },
   "outputs": [],
   "source": [
    "%%bash\n",
    "curl -sL \"https://docs.google.com/spreadsheets/d/e/2PACX-1vQHIcaQrXHke2rFSGnydDo6dextEBaxrRL6lbSBNkR2OrQiKje25bOzv7cUsxiLQXSMwXqBkgL94y0W/pub?gid=0&single=true&output=csv\" \\\n",
    "> richieste.csv"
   ]
  },
  {
   "cell_type": "code",
   "execution_count": 77,
   "metadata": {},
   "outputs": [
    {
     "data": {
      "text/html": [
       "<div>\n",
       "<style>\n",
       "    .dataframe thead tr:only-child th {\n",
       "        text-align: right;\n",
       "    }\n",
       "\n",
       "    .dataframe thead th {\n",
       "        text-align: left;\n",
       "    }\n",
       "\n",
       "    .dataframe tbody tr th {\n",
       "        vertical-align: top;\n",
       "    }\n",
       "</style>\n",
       "<table border=\"1\" class=\"dataframe\">\n",
       "  <thead>\n",
       "    <tr style=\"text-align: right;\">\n",
       "      <th></th>\n",
       "      <th>cod_pro</th>\n",
       "      <th>cod_reg</th>\n",
       "      <th>comune</th>\n",
       "      <th>geometry</th>\n",
       "      <th>id</th>\n",
       "      <th>link</th>\n",
       "      <th>numero_eventi</th>\n",
       "      <th>pro_com</th>\n",
       "    </tr>\n",
       "  </thead>\n",
       "  <tbody>\n",
       "    <tr>\n",
       "      <th>0</th>\n",
       "      <td>Salerno</td>\n",
       "      <td>Campania</td>\n",
       "      <td>Laureana Cilento</td>\n",
       "      <td>POLYGON ((15.017164 40.324587, 15.016716 40.32...</td>\n",
       "      <td>0</td>\n",
       "      <td>&lt;a href='http://www.foiapop.it/api/accesso-civ...</td>\n",
       "      <td>1</td>\n",
       "      <td>65060</td>\n",
       "    </tr>\n",
       "    <tr>\n",
       "      <th>1</th>\n",
       "      <td>Roma</td>\n",
       "      <td>Lazio</td>\n",
       "      <td>Fiumicino</td>\n",
       "      <td>POLYGON ((12.238728 42.017981, 12.238873 42.01...</td>\n",
       "      <td>1</td>\n",
       "      <td>&lt;a href='http://www.foiapop.it/api/accesso-civ...</td>\n",
       "      <td>4</td>\n",
       "      <td>58120</td>\n",
       "    </tr>\n",
       "    <tr>\n",
       "      <th>2</th>\n",
       "      <td>Latina</td>\n",
       "      <td>Lazio</td>\n",
       "      <td>Aprilia</td>\n",
       "      <td>POLYGON ((12.643742 41.666867, 12.644387 41.66...</td>\n",
       "      <td>2</td>\n",
       "      <td>&lt;a href='http://www.foiapop.it/api/accesso-civ...</td>\n",
       "      <td>1</td>\n",
       "      <td>59001</td>\n",
       "    </tr>\n",
       "  </tbody>\n",
       "</table>\n",
       "</div>"
      ],
      "text/plain": [
       "   cod_pro   cod_reg            comune  \\\n",
       "0  Salerno  Campania  Laureana Cilento   \n",
       "1     Roma     Lazio         Fiumicino   \n",
       "2   Latina     Lazio           Aprilia   \n",
       "\n",
       "                                            geometry id  \\\n",
       "0  POLYGON ((15.017164 40.324587, 15.016716 40.32...  0   \n",
       "1  POLYGON ((12.238728 42.017981, 12.238873 42.01...  1   \n",
       "2  POLYGON ((12.643742 41.666867, 12.644387 41.66...  2   \n",
       "\n",
       "                                                link numero_eventi pro_com  \n",
       "0  <a href='http://www.foiapop.it/api/accesso-civ...             1   65060  \n",
       "1  <a href='http://www.foiapop.it/api/accesso-civ...             4   58120  \n",
       "2  <a href='http://www.foiapop.it/api/accesso-civ...             1   59001  "
      ]
     },
     "execution_count": 77,
     "metadata": {},
     "output_type": "execute_result"
    }
   ],
   "source": [
    "df = \"comunieventilink0.geojson\"\n",
    "df = gpd.read_file(df)\n",
    "df.head(3)"
   ]
  },
  {
   "cell_type": "code",
   "execution_count": 78,
   "metadata": {},
   "outputs": [
    {
     "data": {
      "text/html": [
       "<div>\n",
       "<style>\n",
       "    .dataframe thead tr:only-child th {\n",
       "        text-align: right;\n",
       "    }\n",
       "\n",
       "    .dataframe thead th {\n",
       "        text-align: left;\n",
       "    }\n",
       "\n",
       "    .dataframe tbody tr th {\n",
       "        vertical-align: top;\n",
       "    }\n",
       "</style>\n",
       "<table border=\"1\" class=\"dataframe\">\n",
       "  <thead>\n",
       "    <tr style=\"text-align: right;\">\n",
       "      <th></th>\n",
       "      <th>Comune</th>\n",
       "      <th>Regione</th>\n",
       "    </tr>\n",
       "  </thead>\n",
       "  <tbody>\n",
       "    <tr>\n",
       "      <th>0</th>\n",
       "      <td>Gangi</td>\n",
       "      <td>Sicilia</td>\n",
       "    </tr>\n",
       "    <tr>\n",
       "      <th>1</th>\n",
       "      <td>Velletri</td>\n",
       "      <td>Lazio</td>\n",
       "    </tr>\n",
       "    <tr>\n",
       "      <th>2</th>\n",
       "      <td>Messina</td>\n",
       "      <td>Sicilia</td>\n",
       "    </tr>\n",
       "  </tbody>\n",
       "</table>\n",
       "</div>"
      ],
      "text/plain": [
       "     Comune  Regione\n",
       "0    Gangi   Sicilia\n",
       "1  Velletri    Lazio\n",
       "2   Messina  Sicilia"
      ]
     },
     "execution_count": 78,
     "metadata": {},
     "output_type": "execute_result"
    }
   ],
   "source": [
    "richieste=pd.read_csv('richieste.csv')\n",
    "colonne=['Comune','Regione']\n",
    "richieste=richieste[colonne]\n",
    "richieste.head(3)"
   ]
  },
  {
   "cell_type": "code",
   "execution_count": 79,
   "metadata": {
    "collapsed": true
   },
   "outputs": [],
   "source": [
    "! rm 'merge.geojson'"
   ]
  },
  {
   "cell_type": "code",
   "execution_count": 80,
   "metadata": {},
   "outputs": [],
   "source": [
    "merge=pd.merge(df,richieste,left_on=\"comune\",right_on=\"Comune\",how=\"left\")\n",
    "merge=merge.rename(columns = {'Comune':'richiesta'})\n",
    "mergedf = gpd.GeoDataFrame(merge, geometry='geometry')\n",
    "mergedf.richiesta.replace({r'^.+$' : r'sì'}, regex=True,inplace=True)\n",
    "mergedf.richiesta = mergedf.richiesta.fillna('no')\n",
    "mergedf.drop(['Regione'], axis=1, inplace=True)\n",
    "mergedf.to_file('merge.geojson',driver='GeoJSON')"
   ]
  },
  {
   "cell_type": "code",
   "execution_count": 81,
   "metadata": {
    "collapsed": true
   },
   "outputs": [],
   "source": [
    "%%bash\n",
    "cp \"comunieventilink0.js\" \"old_comunieventilink0.js\"\n",
    "<merge.geojson sed  '1s/^/var json_comunieventilink0 = /' > \"comunieventilink0.js\""
   ]
  }
 ],
 "metadata": {
  "kernelspec": {
   "display_name": "Python 2",
   "language": "python",
   "name": "python2"
  },
  "language_info": {
   "codemirror_mode": {
    "name": "ipython",
    "version": 2
   },
   "file_extension": ".py",
   "mimetype": "text/x-python",
   "name": "python",
   "nbconvert_exporter": "python",
   "pygments_lexer": "ipython2",
   "version": "2.7.13"
  }
 },
 "nbformat": 4,
 "nbformat_minor": 2
}
